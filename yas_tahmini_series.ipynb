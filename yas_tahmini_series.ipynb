{
  "nbformat": 4,
  "nbformat_minor": 0,
  "metadata": {
    "colab": {
      "provenance": []
    },
    "kernelspec": {
      "name": "python3",
      "display_name": "Python 3"
    },
    "language_info": {
      "name": "python"
    }
  },
  "cells": [
    {
      "cell_type": "code",
      "execution_count": 2,
      "metadata": {
        "id": "zW-N5V5iFffv"
      },
      "outputs": [],
      "source": [
        "# This Python 3 environment comes with many helpful analytics libraries installed\n",
        "# It is defined by the kaggle/python docker image: https://github.com/kaggle/docker-python\n",
        "# For example, here's several helpful packages to load in \n",
        "\n",
        "import numpy as np # linear algebra\n",
        "import pandas as pd # data processing, CSV file I/O (e.g. pd.read_csv)\n",
        "import math\n",
        "import cv2\n",
        "import matplotlib.pyplot as plt\n",
        "import os\n",
        "import seaborn as sns\n",
        "from random import shuffle\n",
        "# import umap\n",
        "# from PIL import Image\n",
        "# from scipy import misc\n",
        "# from os import listdir\n",
        "# from os.path import isfile, join\n",
        "# import numpy as np\n",
        "# from scipy import misc\n",
        "# from random import shuffle\n",
        "# from collections import Counter\n",
        "# import matplotlib.pyplot as plt\n",
        "# from sklearn.decomposition import PCA\n",
        "# from sklearn.manifold import TSNE\n",
        "# import tensorflow as tf\n",
        "# from keras.models import Sequential\n",
        "# from keras.layers import Conv2D, MaxPooling2D\n",
        "# from keras.layers import Activation, Dropout, Flatten, Dense\n",
        "# from keras.utils.np_utils import to_categorical\n"
      ]
    },
    {
      "cell_type": "code",
      "source": [
        "!pip install opendatasets"
      ],
      "metadata": {
        "id": "32iF7xeqHCBR"
      },
      "execution_count": null,
      "outputs": []
    },
    {
      "cell_type": "code",
      "source": [
        "import opendatasets as od"
      ],
      "metadata": {
        "id": "y1nT8cAOHUR4"
      },
      "execution_count": 5,
      "outputs": []
    },
    {
      "cell_type": "code",
      "source": [
        "od.download(\n",
        "    \"https://www.kaggle.com/datasets/jangedoo/utkface-new\")"
      ],
      "metadata": {
        "colab": {
          "base_uri": "https://localhost:8080/"
        },
        "id": "vZSZuPe3HdDf",
        "outputId": "007c1918-5850-4928-8e6e-810564caa32a"
      },
      "execution_count": 6,
      "outputs": [
        {
          "output_type": "stream",
          "name": "stdout",
          "text": [
            "Please provide your Kaggle credentials to download this dataset. Learn more: http://bit.ly/kaggle-creds\n",
            "Your Kaggle username: ikbalunal\n",
            "Your Kaggle Key: ··········\n",
            "Downloading utkface-new.zip to ./utkface-new\n"
          ]
        },
        {
          "output_type": "stream",
          "name": "stderr",
          "text": [
            "100%|██████████| 331M/331M [00:03<00:00, 106MB/s]\n"
          ]
        },
        {
          "output_type": "stream",
          "name": "stdout",
          "text": [
            "\n"
          ]
        }
      ]
    },
    {
      "cell_type": "code",
      "source": [
        "os.chdir('/content/utkface-new/utkface_aligned_cropped')"
      ],
      "metadata": {
        "id": "XJHXhOITIZoV"
      },
      "execution_count": 7,
      "outputs": []
    },
    {
      "cell_type": "code",
      "source": [
        "os.chdir('/content/utkface-new/UTKFace')"
      ],
      "metadata": {
        "id": "REOxi70gIb2i"
      },
      "execution_count": 8,
      "outputs": []
    },
    {
      "cell_type": "code",
      "source": [
        "im =Image.open('1_0_0_20161219140623097.jpg.chip.jpg').resize((128,128))\n",
        "im"
      ],
      "metadata": {
        "colab": {
          "base_uri": "https://localhost:8080/",
          "height": 145
        },
        "id": "VpuLr7nnIfY5",
        "outputId": "b4778785-e063-4826-ccf5-4770ef852753"
      },
      "execution_count": 9,
      "outputs": [
        {
          "output_type": "execute_result",
          "data": {
            "text/plain": [
              "<PIL.Image.Image image mode=RGB size=128x128 at 0x7F8154CBA8E0>"
            ],
            "image/png": "[encoded data removed]"
          },
          "metadata": {},
          "execution_count": 9
        }
      ]
    },
    {
      "cell_type": "code",
      "source": [
        "onlyfiles = os.listdir()"
      ],
      "metadata": {
        "id": "jSchzEunIhCr"
      },
      "execution_count": 50,
      "outputs": []
    },
    {
      "cell_type": "code",
      "source": [
        "len(onlyfiles)"
      ],
      "metadata": {
        "colab": {
          "base_uri": "https://localhost:8080/"
        },
        "id": "ldXbS7GkIiWq",
        "outputId": "b88f696f-4330-4596-c8a6-7da7104acb07"
      },
      "execution_count": 51,
      "outputs": [
        {
          "output_type": "execute_result",
          "data": {
            "text/plain": [
              "23708"
            ]
          },
          "metadata": {},
          "execution_count": 51
        }
      ]
    },
    {
      "cell_type": "code",
      "source": [
        "shuffle(onlyfiles)\n",
        "age = [i.split('_')[0] for i in onlyfiles]"
      ],
      "metadata": {
        "id": "I1FqGv0EIkBU"
      },
      "execution_count": 57,
      "outputs": []
    },
    {
      "cell_type": "code",
      "source": [
        "classes = []\n",
        "for i in age:\n",
        "    i = int(i)\n",
        "    if i <= 14:\n",
        "        classes.append(0)\n",
        "    if (i>14) and (i<=25):\n",
        "        classes.append(1)\n",
        "    if (i>25) and (i<40):\n",
        "        classes.append(2)\n",
        "    if (i>=40) and (i<60):\n",
        "        classes.append(3)\n",
        "    if i>=60:\n",
        "        classes.append(4)"
      ],
      "metadata": {
        "id": "Sy71zP0GIloZ"
      },
      "execution_count": 13,
      "outputs": []
    },
    {
      "cell_type": "code",
      "source": [
        "def classAge(i):\n",
        "    if i <= 14:\n",
        "        return int(0)\n",
        "    if (i>14) and (i<=25):\n",
        "        return int(1)\n",
        "    if (i>25) and (i<40):\n",
        "        return int(2)\n",
        "    if (i>=40) and (i<60):\n",
        "        return int(3)\n",
        "    if i>=60:\n",
        "        return int(4)"
      ],
      "metadata": {
        "id": "Sp7FVxIITF1L"
      },
      "execution_count": 58,
      "outputs": []
    },
    {
      "cell_type": "code",
      "source": [
        "import imageio"
      ],
      "metadata": {
        "id": "y05ojozIIngc"
      },
      "execution_count": 14,
      "outputs": []
    },
    {
      "cell_type": "code",
      "source": [
        "ham =[]\n",
        "sonuclanacak = []\n",
        "for file in onlyfiles:\n",
        "    face = imageio.imread(file)\n",
        "    face =cv2.resize(face, (32, 32) )\n",
        "    ham.append(face.flatten())\n",
        "    sonuclanacak.append(classAge(int(file.split('_')[0])))"
      ],
      "metadata": {
        "id": "YCEpRlEaIpCx"
      },
      "execution_count": 59,
      "outputs": []
    },
    {
      "cell_type": "code",
      "source": [
        "duzenli_veriler=np.array(ham) \n",
        "sonuc=np.array(sonuclanacak)\n",
        "df=pd.DataFrame(duzenli_veriler)\n",
        "# sonuc kolonumu ekliyorum\n",
        "df['Sonuc']=sonuc"
      ],
      "metadata": {
        "id": "gIyU-o9gPSYZ"
      },
      "execution_count": 60,
      "outputs": []
    },
    {
      "cell_type": "code",
      "source": [
        "df"
      ],
      "metadata": {
        "colab": {
          "base_uri": "https://localhost:8080/",
          "height": 423
        },
        "id": "ALe4ctyJUAps",
        "outputId": "3fcc16c5-109d-47ca-bc82-57d03b7d588b"
      },
      "execution_count": 62,
      "outputs": [
        {
          "output_type": "execute_result",
          "data": {
            "text/plain": [
              "         0    1    2    3    4    5    6    7    8    9  ...  3063  3064  \\\n",
              "0       15   25   28    4    9   12    0    4    5    2  ...   184   138   \n",
              "1       23   39   53   18   37   52    9   29   47    0  ...    51    68   \n",
              "2       90   90   90   57   60   65   82   78   79  114  ...    12    12   \n",
              "3       31   20   16   40   29   25   47   36   33   34  ...   228   228   \n",
              "4      230  225  219  233  228  222  225  220  214  122  ...   155   149   \n",
              "...    ...  ...  ...  ...  ...  ...  ...  ...  ...  ...  ...   ...   ...   \n",
              "23703   35   34    3   42   34   15   64   47   35   87  ...   118   151   \n",
              "23704   48   21   10   91   48   33  135   79   62  190  ...    55    48   \n",
              "23705  125  170  229  121  174  228  115  163  217  104  ...    74   103   \n",
              "23706  152  151  148   66   54   44   80   57   43  101  ...     0     0   \n",
              "23707   83   57   45   45   30   23   17    9    7   16  ...   201   148   \n",
              "\n",
              "       3065  3066  3067  3068  3069  3070  3071  Sonuc  \n",
              "0       114   190   129   108   184   127   102      2  \n",
              "1        75    61    68    82   168   177   185      2  \n",
              "2        12    16    16    16    14    14    14      3  \n",
              "3       226   236   236   236   238   238   238      1  \n",
              "4       151   163   159   164   159   156   165      3  \n",
              "...     ...   ...   ...   ...   ...   ...   ...    ...  \n",
              "23703    93   118   148    94   122   150    99      3  \n",
              "23704    48    87    83    84   101    99   102      2  \n",
              "23705   157   127   157   214   136   170   227      0  \n",
              "23706     0     0     0     0     0     0     0      2  \n",
              "23707   117   169   116    85   198   148   115      2  \n",
              "\n",
              "[23708 rows x 3073 columns]"
            ],
            "text/html": [
              "\n",
              "  <div id=\"df-06529a25-4cf3-4e20-956d-ad751192c228\">\n",
              "    <div class=\"colab-df-container\">\n",
              "      <div>\n",
              "<style scoped>\n",
              "    .dataframe tbody tr th:only-of-type {\n",
              "        vertical-align: middle;\n",
              "    }\n",
              "\n",
              "    .dataframe tbody tr th {\n",
              "        vertical-align: top;\n",
              "    }\n",
              "\n",
              "    .dataframe thead th {\n",
              "        text-align: right;\n",
              "    }\n",
              "</style>\n",
              "<table border=\"1\" class=\"dataframe\">\n",
              "  <thead>\n",
              "    <tr style=\"text-align: right;\">\n",
              "      <th></th>\n",
              "      <th>0</th>\n",
              "      <th>1</th>\n",
              "      <th>2</th>\n",
              "      <th>3</th>\n",
              "      <th>4</th>\n",
              "      <th>5</th>\n",
              "      <th>6</th>\n",
              "      <th>7</th>\n",
              "      <th>8</th>\n",
              "      <th>9</th>\n",
              "      <th>...</th>\n",
              "      <th>3063</th>\n",
              "      <th>3064</th>\n",
              "      <th>3065</th>\n",
              "      <th>3066</th>\n",
              "      <th>3067</th>\n",
              "      <th>3068</th>\n",
              "      <th>3069</th>\n",
              "      <th>3070</th>\n",
              "      <th>3071</th>\n",
              "      <th>Sonuc</th>\n",
              "    </tr>\n",
              "  </thead>\n",
              "  <tbody>\n",
              "    <tr>\n",
              "      <th>0</th>\n",
              "      <td>15</td>\n",
              "      <td>25</td>\n",
              "      <td>28</td>\n",
              "      <td>4</td>\n",
              "      <td>9</td>\n",
              "      <td>12</td>\n",
              "      <td>0</td>\n",
              "      <td>4</td>\n",
              "      <td>5</td>\n",
              "      <td>2</td>\n",
              "      <td>...</td>\n",
              "      <td>184</td>\n",
              "      <td>138</td>\n",
              "      <td>114</td>\n",
              "      <td>190</td>\n",
              "      <td>129</td>\n",
              "      <td>108</td>\n",
              "      <td>184</td>\n",
              "      <td>127</td>\n",
              "      <td>102</td>\n",
              "      <td>2</td>\n",
              "    </tr>\n",
              "    <tr>\n",
              "      <th>1</th>\n",
              "      <td>23</td>\n",
              "      <td>39</td>\n",
              "      <td>53</td>\n",
              "      <td>18</td>\n",
              "      <td>37</td>\n",
              "      <td>52</td>\n",
              "      <td>9</td>\n",
              "      <td>29</td>\n",
              "      <td>47</td>\n",
              "      <td>0</td>\n",
              "      <td>...</td>\n",
              "      <td>51</td>\n",
              "      <td>68</td>\n",
              "      <td>75</td>\n",
              "      <td>61</td>\n",
              "      <td>68</td>\n",
              "      <td>82</td>\n",
              "      <td>168</td>\n",
              "      <td>177</td>\n",
              "      <td>185</td>\n",
              "      <td>2</td>\n",
              "    </tr>\n",
              "    <tr>\n",
              "      <th>2</th>\n",
              "      <td>90</td>\n",
              "      <td>90</td>\n",
              "      <td>90</td>\n",
              "      <td>57</td>\n",
              "      <td>60</td>\n",
              "      <td>65</td>\n",
              "      <td>82</td>\n",
              "      <td>78</td>\n",
              "      <td>79</td>\n",
              "      <td>114</td>\n",
              "      <td>...</td>\n",
              "      <td>12</td>\n",
              "      <td>12</td>\n",
              "      <td>12</td>\n",
              "      <td>16</td>\n",
              "      <td>16</td>\n",
              "      <td>16</td>\n",
              "      <td>14</td>\n",
              "      <td>14</td>\n",
              "      <td>14</td>\n",
              "      <td>3</td>\n",
              "    </tr>\n",
              "    <tr>\n",
              "      <th>3</th>\n",
              "      <td>31</td>\n",
              "      <td>20</td>\n",
              "      <td>16</td>\n",
              "      <td>40</td>\n",
              "      <td>29</td>\n",
              "      <td>25</td>\n",
              "      <td>47</td>\n",
              "      <td>36</td>\n",
              "      <td>33</td>\n",
              "      <td>34</td>\n",
              "      <td>...</td>\n",
              "      <td>228</td>\n",
              "      <td>228</td>\n",
              "      <td>226</td>\n",
              "      <td>236</td>\n",
              "      <td>236</td>\n",
              "      <td>236</td>\n",
              "      <td>238</td>\n",
              "      <td>238</td>\n",
              "      <td>238</td>\n",
              "      <td>1</td>\n",
              "    </tr>\n",
              "    <tr>\n",
              "      <th>4</th>\n",
              "      <td>230</td>\n",
              "      <td>225</td>\n",
              "      <td>219</td>\n",
              "      <td>233</td>\n",
              "      <td>228</td>\n",
              "      <td>222</td>\n",
              "      <td>225</td>\n",
              "      <td>220</td>\n",
              "      <td>214</td>\n",
              "      <td>122</td>\n",
              "      <td>...</td>\n",
              "      <td>155</td>\n",
              "      <td>149</td>\n",
              "      <td>151</td>\n",
              "      <td>163</td>\n",
              "      <td>159</td>\n",
              "      <td>164</td>\n",
              "      <td>159</td>\n",
              "      <td>156</td>\n",
              "      <td>165</td>\n",
              "      <td>3</td>\n",
              "    </tr>\n",
              "    <tr>\n",
              "      <th>...</th>\n",
              "      <td>...</td>\n",
              "      <td>...</td>\n",
              "      <td>...</td>\n",
              "      <td>...</td>\n",
              "      <td>...</td>\n",
              "      <td>...</td>\n",
              "      <td>...</td>\n",
              "      <td>...</td>\n",
              "      <td>...</td>\n",
              "      <td>...</td>\n",
              "      <td>...</td>\n",
              "      <td>...</td>\n",
              "      <td>...</td>\n",
              "      <td>...</td>\n",
              "      <td>...</td>\n",
              "      <td>...</td>\n",
              "      <td>...</td>\n",
              "      <td>...</td>\n",
              "      <td>...</td>\n",
              "      <td>...</td>\n",
              "      <td>...</td>\n",
              "    </tr>\n",
              "    <tr>\n",
              "      <th>23703</th>\n",
              "      <td>35</td>\n",
              "      <td>34</td>\n",
              "      <td>3</td>\n",
              "      <td>42</td>\n",
              "      <td>34</td>\n",
              "      <td>15</td>\n",
              "      <td>64</td>\n",
              "      <td>47</td>\n",
              "      <td>35</td>\n",
              "      <td>87</td>\n",
              "      <td>...</td>\n",
              "      <td>118</td>\n",
              "      <td>151</td>\n",
              "      <td>93</td>\n",
              "      <td>118</td>\n",
              "      <td>148</td>\n",
              "      <td>94</td>\n",
              "      <td>122</td>\n",
              "      <td>150</td>\n",
              "      <td>99</td>\n",
              "      <td>3</td>\n",
              "    </tr>\n",
              "    <tr>\n",
              "      <th>23704</th>\n",
              "      <td>48</td>\n",
              "      <td>21</td>\n",
              "      <td>10</td>\n",
              "      <td>91</td>\n",
              "      <td>48</td>\n",
              "      <td>33</td>\n",
              "      <td>135</td>\n",
              "      <td>79</td>\n",
              "      <td>62</td>\n",
              "      <td>190</td>\n",
              "      <td>...</td>\n",
              "      <td>55</td>\n",
              "      <td>48</td>\n",
              "      <td>48</td>\n",
              "      <td>87</td>\n",
              "      <td>83</td>\n",
              "      <td>84</td>\n",
              "      <td>101</td>\n",
              "      <td>99</td>\n",
              "      <td>102</td>\n",
              "      <td>2</td>\n",
              "    </tr>\n",
              "    <tr>\n",
              "      <th>23705</th>\n",
              "      <td>125</td>\n",
              "      <td>170</td>\n",
              "      <td>229</td>\n",
              "      <td>121</td>\n",
              "      <td>174</td>\n",
              "      <td>228</td>\n",
              "      <td>115</td>\n",
              "      <td>163</td>\n",
              "      <td>217</td>\n",
              "      <td>104</td>\n",
              "      <td>...</td>\n",
              "      <td>74</td>\n",
              "      <td>103</td>\n",
              "      <td>157</td>\n",
              "      <td>127</td>\n",
              "      <td>157</td>\n",
              "      <td>214</td>\n",
              "      <td>136</td>\n",
              "      <td>170</td>\n",
              "      <td>227</td>\n",
              "      <td>0</td>\n",
              "    </tr>\n",
              "    <tr>\n",
              "      <th>23706</th>\n",
              "      <td>152</td>\n",
              "      <td>151</td>\n",
              "      <td>148</td>\n",
              "      <td>66</td>\n",
              "      <td>54</td>\n",
              "      <td>44</td>\n",
              "      <td>80</td>\n",
              "      <td>57</td>\n",
              "      <td>43</td>\n",
              "      <td>101</td>\n",
              "      <td>...</td>\n",
              "      <td>0</td>\n",
              "      <td>0</td>\n",
              "      <td>0</td>\n",
              "      <td>0</td>\n",
              "      <td>0</td>\n",
              "      <td>0</td>\n",
              "      <td>0</td>\n",
              "      <td>0</td>\n",
              "      <td>0</td>\n",
              "      <td>2</td>\n",
              "    </tr>\n",
              "    <tr>\n",
              "      <th>23707</th>\n",
              "      <td>83</td>\n",
              "      <td>57</td>\n",
              "      <td>45</td>\n",
              "      <td>45</td>\n",
              "      <td>30</td>\n",
              "      <td>23</td>\n",
              "      <td>17</td>\n",
              "      <td>9</td>\n",
              "      <td>7</td>\n",
              "      <td>16</td>\n",
              "      <td>...</td>\n",
              "      <td>201</td>\n",
              "      <td>148</td>\n",
              "      <td>117</td>\n",
              "      <td>169</td>\n",
              "      <td>116</td>\n",
              "      <td>85</td>\n",
              "      <td>198</td>\n",
              "      <td>148</td>\n",
              "      <td>115</td>\n",
              "      <td>2</td>\n",
              "    </tr>\n",
              "  </tbody>\n",
              "</table>\n",
              "<p>23708 rows × 3073 columns</p>\n",
              "</div>\n",
              "      <button class=\"colab-df-convert\" onclick=\"convertToInteractive('df-06529a25-4cf3-4e20-956d-ad751192c228')\"\n",
              "              title=\"Convert this dataframe to an interactive table.\"\n",
              "              style=\"display:none;\">\n",
              "        \n",
              "  <svg xmlns=\"http://www.w3.org/2000/svg\" height=\"24px\"viewBox=\"0 0 24 24\"\n",
              "       width=\"24px\">\n",
              "    <path d=\"M0 0h24v24H0V0z\" fill=\"none\"/>\n",
              "    <path d=\"M18.56 5.44l.94 2.06.94-2.06 2.06-.94-2.06-.94-.94-2.06-.94 2.06-2.06.94zm-11 1L8.5 8.5l.94-2.06 2.06-.94-2.06-.94L8.5 2.5l-.94 2.06-2.06.94zm10 10l.94 2.06.94-2.06 2.06-.94-2.06-.94-.94-2.06-.94 2.06-2.06.94z\"/><path d=\"M17.41 7.96l-1.37-1.37c-.4-.4-.92-.59-1.43-.59-.52 0-1.04.2-1.43.59L10.3 9.45l-7.72 7.72c-.78.78-.78 2.05 0 2.83L4 21.41c.39.39.9.59 1.41.59.51 0 1.02-.2 1.41-.59l7.78-7.78 2.81-2.81c.8-.78.8-2.07 0-2.86zM5.41 20L4 18.59l7.72-7.72 1.47 1.35L5.41 20z\"/>\n",
              "  </svg>\n",
              "      </button>\n",
              "      \n",
              "  <style>\n",
              "    .colab-df-container {\n",
              "      display:flex;\n",
              "      flex-wrap:wrap;\n",
              "      gap: 12px;\n",
              "    }\n",
              "\n",
              "    .colab-df-convert {\n",
              "      background-color: #E8F0FE;\n",
              "      border: none;\n",
              "      border-radius: 50%;\n",
              "      cursor: pointer;\n",
              "      display: none;\n",
              "      fill: #1967D2;\n",
              "      height: 32px;\n",
              "      padding: 0 0 0 0;\n",
              "      width: 32px;\n",
              "    }\n",
              "\n",
              "    .colab-df-convert:hover {\n",
              "      background-color: #E2EBFA;\n",
              "      box-shadow: 0px 1px 2px rgba(60, 64, 67, 0.3), 0px 1px 3px 1px rgba(60, 64, 67, 0.15);\n",
              "      fill: #174EA6;\n",
              "    }\n",
              "\n",
              "    [theme=dark] .colab-df-convert {\n",
              "      background-color: #3B4455;\n",
              "      fill: #D2E3FC;\n",
              "    }\n",
              "\n",
              "    [theme=dark] .colab-df-convert:hover {\n",
              "      background-color: #434B5C;\n",
              "      box-shadow: 0px 1px 3px 1px rgba(0, 0, 0, 0.15);\n",
              "      filter: drop-shadow(0px 1px 2px rgba(0, 0, 0, 0.3));\n",
              "      fill: #FFFFFF;\n",
              "    }\n",
              "  </style>\n",
              "\n",
              "      <script>\n",
              "        const buttonEl =\n",
              "          document.querySelector('#df-06529a25-4cf3-4e20-956d-ad751192c228 button.colab-df-convert');\n",
              "        buttonEl.style.display =\n",
              "          google.colab.kernel.accessAllowed ? 'block' : 'none';\n",
              "\n",
              "        async function convertToInteractive(key) {\n",
              "          const element = document.querySelector('#df-06529a25-4cf3-4e20-956d-ad751192c228');\n",
              "          const dataTable =\n",
              "            await google.colab.kernel.invokeFunction('convertToInteractive',\n",
              "                                                     [key], {});\n",
              "          if (!dataTable) return;\n",
              "\n",
              "          const docLinkHtml = 'Like what you see? Visit the ' +\n",
              "            '<a target=\"_blank\" href=https://colab.research.google.com/notebooks/data_table.ipynb>data table notebook</a>'\n",
              "            + ' to learn more about interactive tables.';\n",
              "          element.innerHTML = '';\n",
              "          dataTable['output_type'] = 'display_data';\n",
              "          await google.colab.output.renderOutput(dataTable, element);\n",
              "          const docLink = document.createElement('div');\n",
              "          docLink.innerHTML = docLinkHtml;\n",
              "          element.appendChild(docLink);\n",
              "        }\n",
              "      </script>\n",
              "    </div>\n",
              "  </div>\n",
              "  "
            ]
          },
          "metadata": {},
          "execution_count": 62
        }
      ]
    },
    {
      "cell_type": "code",
      "source": [
        "x = df.drop(columns='Sonuc')"
      ],
      "metadata": {
        "id": "zDtPsj1DaJag"
      },
      "execution_count": 65,
      "outputs": []
    },
    {
      "cell_type": "code",
      "source": [
        "x"
      ],
      "metadata": {
        "id": "0onlcExIbYN1"
      },
      "execution_count": null,
      "outputs": []
    },
    {
      "cell_type": "code",
      "source": [
        "y= df['Sonuc']"
      ],
      "metadata": {
        "id": "tGL9wYuMbaNd"
      },
      "execution_count": 67,
      "outputs": []
    },
    {
      "cell_type": "code",
      "source": [
        "from sklearn.model_selection import train_test_split\n",
        "\n",
        "x_train,x_test,y_train,y_test=train_test_split(x,y,test_size=0.20,random_state=77,stratify=y)"
      ],
      "metadata": {
        "id": "VWdNpV9CfBqR"
      },
      "execution_count": 68,
      "outputs": []
    },
    {
      "cell_type": "code",
      "source": [
        "from sklearn.linear_model import LinearRegression\n",
        "lr = LinearRegression()"
      ],
      "metadata": {
        "id": "X0AD_hgGfneJ"
      },
      "execution_count": 69,
      "outputs": []
    },
    {
      "cell_type": "code",
      "source": [
        "lr.fit(x_train,y_train)"
      ],
      "metadata": {
        "colab": {
          "base_uri": "https://localhost:8080/"
        },
        "id": "6geOe4Dgf2t3",
        "outputId": "a1c21a4f-2d00-4262-d912-80f9f28fb0db"
      },
      "execution_count": 70,
      "outputs": [
        {
          "output_type": "execute_result",
          "data": {
            "text/plain": [
              "LinearRegression()"
            ]
          },
          "metadata": {},
          "execution_count": 70
        }
      ]
    },
    {
      "cell_type": "code",
      "source": [
        "y_pred_train = lr.predict(x_train)"
      ],
      "metadata": {
        "id": "KFkfjz0UgW2U"
      },
      "execution_count": 72,
      "outputs": []
    },
    {
      "cell_type": "code",
      "source": [
        "from sklearn.metrics import r2_score\n",
        "r2_score(y_train,y_pred_train)"
      ],
      "metadata": {
        "colab": {
          "base_uri": "https://localhost:8080/"
        },
        "id": "iRTNp2K9iAQV",
        "outputId": "263ef5a6-dc87-4f53-ca13-08b235ccbfe2"
      },
      "execution_count": 80,
      "outputs": [
        {
          "output_type": "execute_result",
          "data": {
            "text/plain": [
              "0.6647017719618542"
            ]
          },
          "metadata": {},
          "execution_count": 80
        }
      ]
    },
    {
      "cell_type": "code",
      "source": [
        "lr.predict(x_test[3005:3006])"
      ],
      "metadata": {
        "colab": {
          "base_uri": "https://localhost:8080/"
        },
        "id": "hcUFfJLOioWN",
        "outputId": "78d1f985-3a10-40f8-bed0-401348439758"
      },
      "execution_count": 101,
      "outputs": [
        {
          "output_type": "execute_result",
          "data": {
            "text/plain": [
              "array([3.40885902])"
            ]
          },
          "metadata": {},
          "execution_count": 101
        }
      ]
    },
    {
      "cell_type": "code",
      "source": [
        "y_test[3005:3006]"
      ],
      "metadata": {
        "colab": {
          "base_uri": "https://localhost:8080/"
        },
        "id": "w7ukxUWjjN4k",
        "outputId": "f461b0bc-43aa-4fcb-e9fa-5a90e9a90438"
      },
      "execution_count": 102,
      "outputs": [
        {
          "output_type": "execute_result",
          "data": {
            "text/plain": [
              "3297    3\n",
              "Name: Sonuc, dtype: int64"
            ]
          },
          "metadata": {},
          "execution_count": 102
        }
      ]
    },
    {
      "cell_type": "code",
      "source": [],
      "metadata": {
        "id": "gVYzsuDxjs50"
      },
      "execution_count": null,
      "outputs": []
    }
  ]
}